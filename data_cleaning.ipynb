{
 "cells": [
  {
   "cell_type": "code",
   "execution_count": 18,
   "metadata": {},
   "outputs": [],
   "source": [
    "import csv\n",
    "\n",
    "class DataCleaner:\n",
    "    \n",
    "    # Replacements to make in each code for uniformity\n",
    "    # Key is incorrect character that needs to be replaced to the value character\n",
    "    replacements = {\n",
    "        '8': 'B', 'U': 'V', 'S': '5', 'G': '6', 'O': '0'\n",
    "    }\n",
    "    \n",
    "    def __init__(self, codes_csv_filepath):\n",
    "        self.codes_csv_filepath = codes_csv_filepath\n",
    "        \n",
    "        self.cleanData()\n",
    "        \n",
    "    def cleanData(self):\n",
    "        # Stores rows with corrected codes\n",
    "        new_rows = []\n",
    "        \n",
    "        with open(self.codes_csv_filepath, 'r') as f:\n",
    "            reader = csv.reader(f)\n",
    "            \n",
    "            next(reader, None)\n",
    "            \n",
    "            for row in reader:\n",
    "                new_row = row[0].upper()\n",
    "                \n",
    "                for incorrect, correct in DataCleaner.replacements.items():\n",
    "                    new_row = new_row.replace(incorrect, correct)\n",
    "                    \n",
    "                new_rows.append([new_row])\n",
    "                \n",
    "        with open(self.codes_csv_filepath, 'w') as f:\n",
    "            # Overwrite the old file with the modified rows\n",
    "            writer = csv.writer(f)\n",
    "            writer.writerow(['code'])\n",
    "            writer.writerows(new_rows)\n",
    "            \n",
    "dc = DataCleaner('data/codes_time_series.csv')\n"
   ]
  },
  {
   "cell_type": "code",
   "execution_count": null,
   "metadata": {},
   "outputs": [],
   "source": []
  }
 ],
 "metadata": {
  "kernelspec": {
   "display_name": "Python 3",
   "language": "python",
   "name": "python3"
  },
  "language_info": {
   "codemirror_mode": {
    "name": "ipython",
    "version": 3
   },
   "file_extension": ".py",
   "mimetype": "text/x-python",
   "name": "python",
   "nbconvert_exporter": "python",
   "pygments_lexer": "ipython3",
   "version": "3.6.2"
  }
 },
 "nbformat": 4,
 "nbformat_minor": 4
}

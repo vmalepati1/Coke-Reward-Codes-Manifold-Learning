{
 "cells": [
  {
   "cell_type": "code",
   "execution_count": 22,
   "metadata": {},
   "outputs": [
    {
     "name": "stdout",
     "output_type": "stream",
     "text": [
      "435200000000\n",
      "BBBBB7BBBBBBBB\n"
     ]
    }
   ],
   "source": [
    "class Base20CodeEncoder:\n",
    "    \n",
    "    # List of allowed characters and their values for base 20 encoding\n",
    "    characters_base_20 = {\n",
    "        'B': 0, 'F': 1, 'H': 2, 'J': 3, 'K': 4, 'L': 5, 'M': 6, 'N': 7, 'P': 8, 'R': 9,\n",
    "        'T': 10, 'V': 11, 'W': 12, 'X': 13, '4': 14, '5': 15, '6': 16, '7': 17, '9': 18, '0': 19\n",
    "    }\n",
    "\n",
    "    @staticmethod\n",
    "    def encode(s: str) -> int:\n",
    "        result = 0\n",
    "        p = 13\n",
    "        \n",
    "        for c in s:\n",
    "            result += Base20CodeEncoder.characters_base_20[c] * 20 ** p\n",
    "            p -= 1\n",
    "            \n",
    "        return result\n",
    "\n",
    "    @staticmethod\n",
    "    def decode(i: int) -> str:\n",
    "        result = ''\n",
    "        \n",
    "        for j in range(13, -1, -1):\n",
    "            base_20_digit = (i // (20 ** j)) % 20\n",
    "            result += [character for character, value in Base20CodeEncoder.characters_base_20.items() \n",
    "                       if value == base_20_digit][0]\n",
    "            \n",
    "        return result"
   ]
  },
  {
   "cell_type": "code",
   "execution_count": null,
   "metadata": {},
   "outputs": [],
   "source": []
  }
 ],
 "metadata": {
  "kernelspec": {
   "display_name": "Python 3",
   "language": "python",
   "name": "python3"
  },
  "language_info": {
   "codemirror_mode": {
    "name": "ipython",
    "version": 3
   },
   "file_extension": ".py",
   "mimetype": "text/x-python",
   "name": "python",
   "nbconvert_exporter": "python",
   "pygments_lexer": "ipython3",
   "version": "3.6.2"
  }
 },
 "nbformat": 4,
 "nbformat_minor": 4
}

{
 "cells": [
  {
   "cell_type": "code",
   "execution_count": 1,
   "metadata": {},
   "outputs": [],
   "source": [
    "import pandas as pd\n",
    "from collections import Counter\n",
    "\n",
    "class FrequencyAnalyzer:\n",
    "    \n",
    "    def __init__(self, df, column_name, string_length):\n",
    "        # Calculate the frequencies at each character position of the string\n",
    "        \n",
    "        # Stores dictionaries of the most frequent characters for each position\n",
    "        self.positional_freq_dicts = []\n",
    "        \n",
    "        for i in range(string_length):\n",
    "            res = Counter(df[column_name].str[i].tolist())\n",
    "            self.positional_freq_dicts.append(res)\n",
    "\n",
    "# data = pd.read_csv('data/codes_time_series.csv')\n",
    "# \n",
    "# fa = FrequencyAnalyzer(data, 'code', 14)\n",
    "# \n",
    "# for index, row in data.iterrows():\n",
    "#     print(sum([fa.positional_freq_dicts[i][row['code'][i]] for i in range(14)]))\n",
    "            "
   ]
  },
  {
   "cell_type": "code",
   "execution_count": null,
   "metadata": {},
   "outputs": [],
   "source": []
  }
 ],
 "metadata": {
  "kernelspec": {
   "display_name": "Python 3",
   "language": "python",
   "name": "python3"
  },
  "language_info": {
   "codemirror_mode": {
    "name": "ipython",
    "version": 3
   },
   "file_extension": ".py",
   "mimetype": "text/x-python",
   "name": "python",
   "nbconvert_exporter": "python",
   "pygments_lexer": "ipython3",
   "version": "3.6.2"
  }
 },
 "nbformat": 4,
 "nbformat_minor": 4
}

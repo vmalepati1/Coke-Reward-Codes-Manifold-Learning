{
 "cells": [
  {
   "cell_type": "code",
   "execution_count": null,
   "metadata": {},
   "outputs": [],
   "source": [
    "class UTFCodeEncoder:\n",
    "\n",
    "    @staticmethod\n",
    "    def encode(b: bytes) -> int:\n",
    "        return int.from_bytes(b, byteorder='big')\n",
    "\n",
    "    @staticmethod\n",
    "    def decode(i: int) -> bytes:\n",
    "        return i.to_bytes(((i.bit_length() + 7) // 8), byteorder='big')"
   ]
  }
 ],
 "metadata": {
  "kernelspec": {
   "display_name": "Python 3",
   "language": "python",
   "name": "python3"
  },
  "language_info": {
   "codemirror_mode": {
    "name": "ipython",
    "version": 3
   },
   "file_extension": ".py",
   "mimetype": "text/x-python",
   "name": "python",
   "nbconvert_exporter": "python",
   "pygments_lexer": "ipython3",
   "version": "3.6.2"
  }
 },
 "nbformat": 4,
 "nbformat_minor": 4
}

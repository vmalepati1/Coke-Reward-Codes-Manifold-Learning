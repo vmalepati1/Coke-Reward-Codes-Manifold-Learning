{
 "cells": [
  {
   "cell_type": "code",
   "execution_count": 35,
   "metadata": {},
   "outputs": [
    {
     "data": {
      "application/vnd.jupyter.widget-view+json": {
       "model_id": "b24382e6194a45d2bd3e69fd48dffb93",
       "version_major": 2,
       "version_minor": 0
      },
      "text/plain": [
       "Canvas(toolbar=Toolbar(toolitems=[('Home', 'Reset original view', 'home', 'home'), ('Back', 'Back to  previous…"
      ]
     },
     "metadata": {},
     "output_type": "display_data"
    },
    {
     "data": {
      "application/vnd.jupyter.widget-view+json": {
       "model_id": "7f217b3243f3400da79c5225ace0cb85",
       "version_major": 2,
       "version_minor": 0
      },
      "text/plain": [
       "Canvas(toolbar=Toolbar(toolitems=[('Home', 'Reset original view', 'home', 'home'), ('Back', 'Back to  previous…"
      ]
     },
     "metadata": {},
     "output_type": "display_data"
    },
    {
     "data": {
      "application/vnd.jupyter.widget-view+json": {
       "model_id": "80f37d80567f4325bd3ef8fdc9603a82",
       "version_major": 2,
       "version_minor": 0
      },
      "text/plain": [
       "Canvas(toolbar=Toolbar(toolitems=[('Home', 'Reset original view', 'home', 'home'), ('Back', 'Back to  previous…"
      ]
     },
     "metadata": {},
     "output_type": "display_data"
    },
    {
     "data": {
      "application/vnd.jupyter.widget-view+json": {
       "model_id": "1aa2b14301e847d7bed4d559d6fa06ca",
       "version_major": 2,
       "version_minor": 0
      },
      "text/plain": [
       "Canvas(toolbar=Toolbar(toolitems=[('Home', 'Reset original view', 'home', 'home'), ('Back', 'Back to  previous…"
      ]
     },
     "metadata": {},
     "output_type": "display_data"
    }
   ],
   "source": [
    "%matplotlib widget\n",
    "import import_ipynb\n",
    "from frequency_analysis import FrequencyAnalyzer\n",
    "from utf_code_encoder import UTFCodeEncoder\n",
    "from mpl_toolkits.mplot3d import Axes3D\n",
    "import pandas as pd\n",
    "import matplotlib.pyplot as plt\n",
    "import random\n",
    "\n",
    "class AttractorGraph:\n",
    "    \n",
    "    def __init__(self, seq, graph_title):\n",
    "        self.seq = seq\n",
    "        self.graph_title = graph_title\n",
    "        \n",
    "        self.calculate()\n",
    "        \n",
    "    def calculate(self):\n",
    "        # 3 component gradients\n",
    "        self.x = []\n",
    "        self.y = []\n",
    "        self.z = []\n",
    "        \n",
    "        for t in range(3, len(self.seq)):\n",
    "            self.x.append(self.seq[t] - self.seq[t - 1])\n",
    "            self.y.append(self.seq[t - 1] - self.seq[t - 2])\n",
    "            self.z.append(self.seq[t - 2] - self.seq[t - 3])\n",
    "            \n",
    "    def plot2d(self):\n",
    "        fig = plt.figure()\n",
    "        ax = fig.add_subplot(111)\n",
    "\n",
    "        ax.scatter(self.x, self.y, c='r')\n",
    "        \n",
    "        ax.set_title(self.graph_title)\n",
    "        ax.set_xlabel('Component 1 Gradient')\n",
    "        ax.set_ylabel('Component 2 Gradient')\n",
    "        \n",
    "        plt.show()\n",
    "        \n",
    "    def plot3d(self):\n",
    "        fig = plt.figure()\n",
    "        ax = fig.add_subplot(111, projection='3d')\n",
    " \n",
    "        ax.scatter(self.x, self.y, self.z, c='r', marker='o')\n",
    " \n",
    "        ax.set_title(self.graph_title)\n",
    "        ax.set_xlabel('Component 1 Gradient')\n",
    "        ax.set_ylabel('Component 2 Gradient')\n",
    "        ax.set_zlabel('Component 3 Gradient')\n",
    "            \n",
    "data = pd.read_csv('data/codes_time_series.csv')\n",
    "\n",
    "freq_encoding_seq = []\n",
    "utf_encoding_seq = []\n",
    "\n",
    "fa = FrequencyAnalyzer(data, 'code', 14)\n",
    "\n",
    "for index, row in data.iterrows():\n",
    "    freq_encoding_seq.append(sum([fa.positional_freq_dicts[i][row['code'][i]] for i in range(14)]))\n",
    "    utf_encoding_seq.append(UTFCodeEncoder.encode(row['code'].encode()))\n",
    "    \n",
    "# a = random.sample(range(0, 100), 100)\n",
    "# b = random.sample(range(0, 100), 100)\n",
    "\n",
    "# print(a)\n",
    "# print(b)\n",
    "\n",
    "freq_encoding_graph = AttractorGraph(freq_encoding_seq, 'Frequency Encoding Attractor')\n",
    "utf_encoding_graph = AttractorGraph(utf_encoding_seq, 'UTF Encoding Attractor')\n",
    "\n",
    "freq_encoding_graph.plot2d()\n",
    "utf_encoding_graph.plot2d()\n",
    "\n",
    "freq_encoding_graph.plot3d()\n",
    "utf_encoding_graph.plot3d()\n"
   ]
  },
  {
   "cell_type": "code",
   "execution_count": null,
   "metadata": {},
   "outputs": [],
   "source": []
  }
 ],
 "metadata": {
  "kernelspec": {
   "display_name": "Python 3",
   "language": "python",
   "name": "python3"
  },
  "language_info": {
   "codemirror_mode": {
    "name": "ipython",
    "version": 3
   },
   "file_extension": ".py",
   "mimetype": "text/x-python",
   "name": "python",
   "nbconvert_exporter": "python",
   "pygments_lexer": "ipython3",
   "version": "3.6.2"
  }
 },
 "nbformat": 4,
 "nbformat_minor": 4
}
